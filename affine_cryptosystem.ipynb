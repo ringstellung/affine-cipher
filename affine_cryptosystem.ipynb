{
 "cells": [
  {
   "cell_type": "markdown",
   "metadata": {},
   "source": [
    "# Implementación del Cifrado Afín"
   ]
  },
  {
   "cell_type": "markdown",
   "metadata": {},
   "source": [
    "El **cifrado afín** es el primero explicado a los neófitos en la Criptografía; ello esencialmente por tres motivos:\n",
    "* es **conceptualmente \"sencillo\"**.\n",
    "* está **basado** en la **aritmética modular** y en el del **[Algoritmo Extendido de Euclides](https://en.wikipedia.org/wiki/Extended_Euclidean_algorithm)**.\n",
    "* es **extraordinariamente débil** y su ataque mediante el **test Chi-cuadrado** ([Chi-squared test](https://en.wikipedia.org/wiki/Chi-squared_test)) es muy **sencillo** y **eficiente**.\n",
    "\n",
    "Es por tanto un criptosistema ideal para mostrar al completo el trabajo del criptoanalista.\n",
    "\n",
    "En nuestro caso podemos añadir un interés más, a saber, que es **fácil de implementar** y **muestra** muy a las claras la conveniencia ---y cómo--- usar eficientemente la **programación dirigida a objetos** (OOP por sus siglas en inglés).  \n",
    "    "
   ]
  },
  {
   "cell_type": "markdown",
   "metadata": {},
   "source": [
    "## Módulos"
   ]
  },
  {
   "cell_type": "code",
   "execution_count": null,
   "metadata": {},
   "outputs": [],
   "source": [
    "from math import log, gcd\n",
    "from itertools import chain, groupby"
   ]
  },
  {
   "cell_type": "markdown",
   "metadata": {},
   "source": [
    "## Alfabeto y Parámetros del Alfabeto"
   ]
  },
  {
   "cell_type": "code",
   "execution_count": null,
   "metadata": {},
   "outputs": [],
   "source": [
    "alphabet = 'ABCDEFGHIJKLMNOPQRSTUVWXYZ0123456789;:,.-'\n",
    "n = len(alphabet)\n",
    "m = int(log(len(alphabet),10))+1\n",
    "f = '0{0}d'.format(str(m))\n",
    "chNum = {v:format(i,f) for i, v in enumerate(alphabet)}\n",
    "numCh = {v:i for i, v in chNum.items()}"
   ]
  },
  {
   "cell_type": "code",
   "execution_count": null,
   "metadata": {},
   "outputs": [],
   "source": [
    "alphabet = 'ABCDEFGHIJKLMNOPQRSTUVWXYZ'\n",
    "n = len(alphabet)\n",
    "m = int(log(len(alphabet),10))+1\n",
    "f = '0{0}d'.format(str(m))\n",
    "chNum = {v:format(i,f) for i, v in enumerate(alphabet)}\n",
    "numCh = {v:i for i, v in chNum.items()}"
   ]
  },
  {
   "cell_type": "code",
   "execution_count": null,
   "metadata": {},
   "outputs": [],
   "source": [
    "alphSpecials = {\n",
    "            'Á' : 'A',\n",
    "            'É' : 'E',\n",
    "            'Í' : 'I',\n",
    "            'Ó' : 'O',\n",
    "            'Ú' : 'U',\n",
    "            'Ä' : 'A',\n",
    "            'Ë' : 'E',\n",
    "            'Ï' : 'I',\n",
    "            'Ö' : 'O',\n",
    "            'Ü' : 'U',\n",
    "            'Ñ' : 'GN'\n",
    "        }"
   ]
  },
  {
   "cell_type": "markdown",
   "metadata": {},
   "source": [
    "## Normalización"
   ]
  },
  {
   "cell_type": "code",
   "execution_count": null,
   "metadata": {},
   "outputs": [],
   "source": [
    "class Message:\n",
    "    \n",
    "    def _flatten(self,listOfLists:list) -> list:\n",
    "        \"\"\"Flatten one level of nesting\"\"\"\n",
    "        return chain.from_iterable(listOfLists)\n",
    "    \n",
    "    def _rBlanks(self,strng:str) -> str:\n",
    "        \"\"\"Removes blanks of a string strng and converts to uppercase\"\"\"\n",
    "        return ''.join(strng.split()).upper()\n",
    "    \n",
    "    def _normalize(self,strng:str) -> str:\n",
    "        \"\"\"\n",
    "        Removes blanks spaces of the string 'strng'; then removes accents\n",
    "        according to 'alphSpecials'. If character 'ñ' occurs in 'strng' then\n",
    "        'GN' appears in 'accum' as an entry, therefore '_flatten' is needed.\n",
    "        \"\"\"\n",
    "        s = self._rBlanks(strng)\n",
    "        accum = []\n",
    "        for ch in s:\n",
    "            if ch in alphSpecials:\n",
    "                accum.append(alphSpecials[ch])\n",
    "            else:\n",
    "                accum.append(ch)\n",
    "        return filter(lambda x: x in alphabet,self._flatten(accum))\n",
    "        # return [c for c in self._flatten(accum) if c in alphabet]\n",
    "\n",
    "    def __init__(self,strng):\n",
    "        x = self._normalize(strng)\n",
    "        self.content = ''.join(x)\n",
    "        self.length = len(self.content)\n",
    "        \n",
    "    def __str__(self):\n",
    "        return self.content"
   ]
  },
  {
   "cell_type": "code",
   "execution_count": null,
   "metadata": {},
   "outputs": [],
   "source": [
    "A = Message('the secret protects itself.')"
   ]
  },
  {
   "cell_type": "code",
   "execution_count": null,
   "metadata": {},
   "outputs": [],
   "source": [
    "A.content"
   ]
  },
  {
   "cell_type": "code",
   "execution_count": null,
   "metadata": {},
   "outputs": [],
   "source": [
    "print(A)"
   ]
  },
  {
   "cell_type": "code",
   "execution_count": null,
   "metadata": {},
   "outputs": [],
   "source": [
    "A = Message('Niño: seguí al capitán Nemo a lo largo de los corredores y llega-mos al centro del navío.')"
   ]
  },
  {
   "cell_type": "code",
   "execution_count": null,
   "metadata": {},
   "outputs": [],
   "source": [
    "A.content"
   ]
  },
  {
   "cell_type": "markdown",
   "metadata": {},
   "source": [
    "## Cifrado"
   ]
  },
  {
   "cell_type": "markdown",
   "metadata": {},
   "source": [
    "Encipher ha sido \"mejorada\" prescindiendo de la aplicación del algoritmo extendido de Euclides e incluyendo memoización."
   ]
  },
  {
   "cell_type": "code",
   "execution_count": null,
   "metadata": {},
   "outputs": [],
   "source": [
    "class Encipher(Message):\n",
    "    \n",
    "    def _invMod(self,a:int,n:int) -> int:\n",
    "        \"\"\"Return multiplicative inverse of a modulo n.\n",
    "           If the integers a and n are not coprime, then return 0.\"\"\"\n",
    "        try:\n",
    "            x, g = pow(a,-1,n), 1\n",
    "        except ValueError:\n",
    "            g = 0\n",
    "        return int(g==1 and x)\n",
    "\n",
    "    def _translation(self,c:str,a:int,b:int) -> str:\n",
    "        return numCh[format((a*int(chNum[c])+b)%len(alphabet),f)]\n",
    "    \n",
    "    def __init__(self,strng,a=1,b=0):\n",
    "        Message.__init__(self,strng)\n",
    "        self.decimation = a\n",
    "        self.displacement = b\n",
    "    \n",
    "    def affine(self,mode=True):\n",
    "        \"\"\"Memoization based code mode: True descifrar\"\"\"       \n",
    "        mem, accum = {}, []\n",
    "        if mode:\n",
    "            a = self._invMod(self.decimation,len(alphabet))\n",
    "            b = -a*self.displacement\n",
    "        else:\n",
    "            a, b = self.decimation, self.displacement\n",
    "        for ch in self.content:\n",
    "            if ch in mem:\n",
    "                accum.append(mem[ch])\n",
    "            else:\n",
    "                mem[ch]=self._translation(ch,a,b)\n",
    "                accum.append(mem[ch])\n",
    "        return ''.join(accum)"
   ]
  },
  {
   "cell_type": "code",
   "execution_count": null,
   "metadata": {},
   "outputs": [],
   "source": [
    "P = Encipher('el secreto se protege a sí mismo',15,24)"
   ]
  },
  {
   "cell_type": "code",
   "execution_count": null,
   "metadata": {},
   "outputs": [],
   "source": [
    "P.content"
   ]
  },
  {
   "cell_type": "code",
   "execution_count": null,
   "metadata": {},
   "outputs": [],
   "source": [
    "P.affine(False)"
   ]
  },
  {
   "cell_type": "code",
   "execution_count": null,
   "metadata": {},
   "outputs": [],
   "source": [
    "E = Encipher('GHIGCTGXAIGPTAXGKGYIOWOIWA',15,24)"
   ]
  },
  {
   "cell_type": "code",
   "execution_count": null,
   "metadata": {},
   "outputs": [],
   "source": [
    "E.affine()"
   ]
  },
  {
   "cell_type": "markdown",
   "metadata": {},
   "source": [
    "## Ataque"
   ]
  },
  {
   "cell_type": "code",
   "execution_count": null,
   "metadata": {},
   "outputs": [],
   "source": [
    "alphFreq = {\n",
    "    'A' : 12.53,\n",
    "    'B' : 1.42,\n",
    "    'C' : 4.68,\n",
    "    'D' : 5.86,\n",
    "    'E' : 13.68,\n",
    "    'F' : 0.69,\n",
    "    'G' : 1.01,\n",
    "    'H' : 0.70,\n",
    "    'I' : 6.25,\n",
    "    'J' : 0.44,\n",
    "    'K' : 0.02,\n",
    "    'L' : 4.97,\n",
    "    'M' : 3.15,\n",
    "    'N' : 6.71,\n",
    "    'O' : 8.68,\n",
    "    'P' : 2.51,\n",
    "    'Q' : 0.88,\n",
    "    'R' : 6.87,\n",
    "    'S' : 7.98,\n",
    "    'T' : 4.63,\n",
    "    'U' : 3.93,\n",
    "    'V' : 0.90,\n",
    "    'W' : 0.01,\n",
    "    'X' : 0.22,\n",
    "    'Y' : 0.90,\n",
    "    'Z' : 0.52\n",
    "    }"
   ]
  },
  {
   "cell_type": "code",
   "execution_count": null,
   "metadata": {},
   "outputs": [],
   "source": [
    "class ChiSquareAttack(Encipher):\n",
    "    \n",
    "    def __init__(self,strng):\n",
    "        Encipher.__init__(self,strng)\n",
    "    \n",
    "    def rfrec(self, strng:str) -> dict:\n",
    "        return {k:len(list(g))/len(strng) for k, g in groupby(''.join(sorted(strng)))}\n",
    "    \n",
    "    def chiSquared(self, strng:str) -> float:\n",
    "        inventory = dict.fromkeys(alphabet,0)\n",
    "        inventory.update(self.rfrec(strng))\n",
    "        chDegree =[(len(strng)*(inventory[ch]-alphFreq[ch]))**2/alphFreq[ch] for ch in inventory]\n",
    "        return sum(chDegree)\n",
    "    \n",
    "    def chiSquaredTest(self) -> list:\n",
    "        # n = len(alphabet)\n",
    "        candidates = []\n",
    "        for a in range(1, n):\n",
    "            if gcd(a,n) == 1:\n",
    "                for b in range(n):\n",
    "                    T = Encipher(self.content,a,b)\n",
    "                    dec = T.affine(True)\n",
    "                    candidates.append((a, b, self.chiSquared(dec)))\n",
    "        return sorted(candidates, key = lambda x: x[2])"
   ]
  },
  {
   "cell_type": "code",
   "execution_count": null,
   "metadata": {},
   "outputs": [],
   "source": [
    "C = ChiSquareAttack('GHIGCTGXAIGPTAXGKGYIOWOIWA')\n",
    "C.chiSquaredTest()[:3]"
   ]
  },
  {
   "cell_type": "code",
   "execution_count": null,
   "metadata": {},
   "outputs": [],
   "source": [
    "X = Encipher('GHIGCTGXAIGPTAXGKGYIOWOIWA',15,24)"
   ]
  },
  {
   "cell_type": "code",
   "execution_count": null,
   "metadata": {},
   "outputs": [],
   "source": [
    "X.affine()"
   ]
  },
  {
   "cell_type": "markdown",
   "metadata": {},
   "source": [
    "## Práctica"
   ]
  },
  {
   "cell_type": "code",
   "execution_count": null,
   "metadata": {},
   "outputs": [],
   "source": [
    "def readTxt(file):\n",
    "    with open(file,'r') as f:\n",
    "        lines = f.readlines()\n",
    "    accum = [k[:-1] for k in lines]\n",
    "    return ''.join(accum)"
   ]
  },
  {
   "cell_type": "code",
   "execution_count": null,
   "metadata": {},
   "outputs": [],
   "source": [
    "E = readTxt('encipheringText.txt')"
   ]
  },
  {
   "cell_type": "code",
   "execution_count": null,
   "metadata": {},
   "outputs": [],
   "source": [
    "print(E)"
   ]
  },
  {
   "cell_type": "code",
   "execution_count": null,
   "metadata": {},
   "outputs": [],
   "source": [
    "C = ChiSquareAttack(E)"
   ]
  },
  {
   "cell_type": "code",
   "execution_count": null,
   "metadata": {},
   "outputs": [],
   "source": [
    "C.chiSquaredTest()[:3]"
   ]
  },
  {
   "cell_type": "code",
   "execution_count": null,
   "metadata": {},
   "outputs": [],
   "source": [
    "P = Encipher(E,21,13)"
   ]
  },
  {
   "cell_type": "code",
   "execution_count": null,
   "metadata": {},
   "outputs": [],
   "source": [
    "P.affine()"
   ]
  }
 ],
 "metadata": {
  "kernelspec": {
   "display_name": "Python 3 (ipykernel)",
   "language": "python",
   "name": "python3"
  },
  "language_info": {
   "codemirror_mode": {
    "name": "ipython",
    "version": 3
   },
   "file_extension": ".py",
   "mimetype": "text/x-python",
   "name": "python",
   "nbconvert_exporter": "python",
   "pygments_lexer": "ipython3",
   "version": "3.9.12"
  }
 },
 "nbformat": 4,
 "nbformat_minor": 2
}
